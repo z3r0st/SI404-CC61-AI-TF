{
 "cells": [
  {
   "cell_type": "markdown",
   "id": "637f39a1",
   "metadata": {},
   "source": [
    "# Machine Learning Model to infer Propositional Logic Rules\n",
    "### Objective: Truth value prediction based on the value of truth of 2 statements and the evaluation operator "
   ]
  },
  {
   "cell_type": "markdown",
   "id": "379df170",
   "metadata": {},
   "source": [
    "## Steps for local setup\n",
    "```sh\n",
    "conda create mlmodel\n",
    "conda activate mlmodel\n",
    "# check if pip is installed\n",
    "pip -V # should output the version number\n",
    "# if pip not automaticall installed use\n",
    "python -m ensurepip --upgrade # para Linux\n",
    "py -m ensurepip --upgrade # para Windows\n",
    "# install tensorflow\n",
    "pip install tensorflow\n",
    "# check tensorflow installation\n",
    "pip show tensorflow\n",
    "# install tensorflowjs (later to transfer to HTML)\n",
    "pip install tensorflowjs\n",
    "```"
   ]
  },
  {
   "cell_type": "markdown",
   "id": "71e77ecf",
   "metadata": {},
   "source": [
    "## Imports necessary for the project"
   ]
  },
  {
   "cell_type": "code",
   "execution_count": 1,
   "id": "68a9bf23",
   "metadata": {},
   "outputs": [
    {
     "name": "stderr",
     "output_type": "stream",
     "text": [
      "2022-11-04 23:33:16.454137: I tensorflow/core/platform/cpu_feature_guard.cc:193] This TensorFlow binary is optimized with oneAPI Deep Neural Network Library (oneDNN) to use the following CPU instructions in performance-critical operations:  AVX2 FMA\n",
      "To enable them in other operations, rebuild TensorFlow with the appropriate compiler flags.\n",
      "2022-11-04 23:33:16.556563: W tensorflow/stream_executor/platform/default/dso_loader.cc:64] Could not load dynamic library 'libcudart.so.11.0'; dlerror: libcudart.so.11.0: cannot open shared object file: No such file or directory\n",
      "2022-11-04 23:33:16.556575: I tensorflow/stream_executor/cuda/cudart_stub.cc:29] Ignore above cudart dlerror if you do not have a GPU set up on your machine.\n",
      "2022-11-04 23:33:16.574890: E tensorflow/stream_executor/cuda/cuda_blas.cc:2981] Unable to register cuBLAS factory: Attempting to register factory for plugin cuBLAS when one has already been registered\n",
      "2022-11-04 23:33:16.988983: W tensorflow/stream_executor/platform/default/dso_loader.cc:64] Could not load dynamic library 'libnvinfer.so.7'; dlerror: libnvinfer.so.7: cannot open shared object file: No such file or directory\n",
      "2022-11-04 23:33:16.989025: W tensorflow/stream_executor/platform/default/dso_loader.cc:64] Could not load dynamic library 'libnvinfer_plugin.so.7'; dlerror: libnvinfer_plugin.so.7: cannot open shared object file: No such file or directory\n",
      "2022-11-04 23:33:16.989029: W tensorflow/compiler/tf2tensorrt/utils/py_utils.cc:38] TF-TRT Warning: Cannot dlopen some TensorRT libraries. If you would like to use Nvidia GPU with TensorRT, please make sure the missing libraries mentioned above are installed properly.\n"
     ]
    }
   ],
   "source": [
    "import numpy as np\n",
    "import pandas as pd\n",
    "import matplotlib.pyplot as plt\n",
    "import tensorflow as tf"
   ]
  },
  {
   "cell_type": "markdown",
   "id": "1990d3c4",
   "metadata": {},
   "source": [
    "## Loading the dataset"
   ]
  },
  {
   "cell_type": "code",
   "execution_count": 2,
   "id": "e2f7c35a",
   "metadata": {},
   "outputs": [],
   "source": [
    "truth_tables = pd.read_csv(\"./truth_tables.csv\")"
   ]
  },
  {
   "cell_type": "markdown",
   "id": "7872b972",
   "metadata": {},
   "source": [
    "## Basic dataset inspection\n",
    "Looking out for those null values!\n",
    "\n",
    "Also validating correct detection of headers"
   ]
  },
  {
   "cell_type": "code",
   "execution_count": 3,
   "id": "ddc53aa4",
   "metadata": {},
   "outputs": [
    {
     "name": "stdout",
     "output_type": "stream",
     "text": [
      "<class 'pandas.core.frame.DataFrame'>\n",
      "RangeIndex: 20 entries, 0 to 19\n",
      "Data columns (total 4 columns):\n",
      " #   Column       Non-Null Count  Dtype \n",
      "---  ------       --------------  ----- \n",
      " 0   Statement_1  20 non-null     int64 \n",
      " 1   Statement_2  20 non-null     int64 \n",
      " 2   Operator     20 non-null     object\n",
      " 3   Result       20 non-null     int64 \n",
      "dtypes: int64(3), object(1)\n",
      "memory usage: 768.0+ bytes\n"
     ]
    }
   ],
   "source": [
    "truth_tables.info()"
   ]
  },
  {
   "cell_type": "code",
   "execution_count": 4,
   "id": "406a50b3",
   "metadata": {},
   "outputs": [
    {
     "data": {
      "text/html": [
       "<div>\n",
       "<style scoped>\n",
       "    .dataframe tbody tr th:only-of-type {\n",
       "        vertical-align: middle;\n",
       "    }\n",
       "\n",
       "    .dataframe tbody tr th {\n",
       "        vertical-align: top;\n",
       "    }\n",
       "\n",
       "    .dataframe thead th {\n",
       "        text-align: right;\n",
       "    }\n",
       "</style>\n",
       "<table border=\"1\" class=\"dataframe\">\n",
       "  <thead>\n",
       "    <tr style=\"text-align: right;\">\n",
       "      <th></th>\n",
       "      <th>Statement_1</th>\n",
       "      <th>Statement_2</th>\n",
       "      <th>Operator</th>\n",
       "      <th>Result</th>\n",
       "    </tr>\n",
       "  </thead>\n",
       "  <tbody>\n",
       "    <tr>\n",
       "      <th>0</th>\n",
       "      <td>0</td>\n",
       "      <td>0</td>\n",
       "      <td>^</td>\n",
       "      <td>0</td>\n",
       "    </tr>\n",
       "    <tr>\n",
       "      <th>1</th>\n",
       "      <td>0</td>\n",
       "      <td>1</td>\n",
       "      <td>^</td>\n",
       "      <td>0</td>\n",
       "    </tr>\n",
       "    <tr>\n",
       "      <th>2</th>\n",
       "      <td>1</td>\n",
       "      <td>0</td>\n",
       "      <td>^</td>\n",
       "      <td>0</td>\n",
       "    </tr>\n",
       "    <tr>\n",
       "      <th>3</th>\n",
       "      <td>1</td>\n",
       "      <td>1</td>\n",
       "      <td>^</td>\n",
       "      <td>1</td>\n",
       "    </tr>\n",
       "  </tbody>\n",
       "</table>\n",
       "</div>"
      ],
      "text/plain": [
       "   Statement_1  Statement_2 Operator  Result\n",
       "0            0            0        ^       0\n",
       "1            0            1        ^       0\n",
       "2            1            0        ^       0\n",
       "3            1            1        ^       1"
      ]
     },
     "execution_count": 4,
     "metadata": {},
     "output_type": "execute_result"
    }
   ],
   "source": [
    "truth_tables.head(4)"
   ]
  },
  {
   "cell_type": "code",
   "execution_count": 5,
   "id": "daada980",
   "metadata": {},
   "outputs": [
    {
     "data": {
      "text/html": [
       "<div>\n",
       "<style scoped>\n",
       "    .dataframe tbody tr th:only-of-type {\n",
       "        vertical-align: middle;\n",
       "    }\n",
       "\n",
       "    .dataframe tbody tr th {\n",
       "        vertical-align: top;\n",
       "    }\n",
       "\n",
       "    .dataframe thead th {\n",
       "        text-align: right;\n",
       "    }\n",
       "</style>\n",
       "<table border=\"1\" class=\"dataframe\">\n",
       "  <thead>\n",
       "    <tr style=\"text-align: right;\">\n",
       "      <th></th>\n",
       "      <th>Statement_1</th>\n",
       "      <th>Statement_2</th>\n",
       "      <th>Operator</th>\n",
       "      <th>Result</th>\n",
       "    </tr>\n",
       "  </thead>\n",
       "  <tbody>\n",
       "    <tr>\n",
       "      <th>16</th>\n",
       "      <td>0</td>\n",
       "      <td>0</td>\n",
       "      <td>↔</td>\n",
       "      <td>1</td>\n",
       "    </tr>\n",
       "    <tr>\n",
       "      <th>17</th>\n",
       "      <td>0</td>\n",
       "      <td>1</td>\n",
       "      <td>↔</td>\n",
       "      <td>0</td>\n",
       "    </tr>\n",
       "    <tr>\n",
       "      <th>18</th>\n",
       "      <td>1</td>\n",
       "      <td>0</td>\n",
       "      <td>↔</td>\n",
       "      <td>0</td>\n",
       "    </tr>\n",
       "    <tr>\n",
       "      <th>19</th>\n",
       "      <td>1</td>\n",
       "      <td>1</td>\n",
       "      <td>↔</td>\n",
       "      <td>1</td>\n",
       "    </tr>\n",
       "  </tbody>\n",
       "</table>\n",
       "</div>"
      ],
      "text/plain": [
       "    Statement_1  Statement_2 Operator  Result\n",
       "16            0            0        ↔       1\n",
       "17            0            1        ↔       0\n",
       "18            1            0        ↔       0\n",
       "19            1            1        ↔       1"
      ]
     },
     "execution_count": 5,
     "metadata": {},
     "output_type": "execute_result"
    }
   ],
   "source": [
    "truth_tables.tail(4)"
   ]
  },
  {
   "cell_type": "markdown",
   "id": "1dafcdc6",
   "metadata": {},
   "source": [
    "## Preprocessing"
   ]
  },
  {
   "cell_type": "markdown",
   "id": "794b6b7e",
   "metadata": {},
   "source": [
    "### Hard-coded linear transformation\n",
    "Because statements truth values are 0 or 1, it's better for all values to be in the same range\n",
    "\n",
    "Necessary to convert operators to values from 0 to 1"
   ]
  },
  {
   "cell_type": "code",
   "execution_count": 6,
   "id": "ad4638fb",
   "metadata": {},
   "outputs": [],
   "source": [
    "# create the mappings so that all input values are numbers\n",
    "mappings = {\"^\": 0., \"v\": 0.25, \"→\": 0.5, \"←\": 0.75, \"↔\": 1.}"
   ]
  },
  {
   "cell_type": "code",
   "execution_count": 7,
   "id": "70c3e2d6",
   "metadata": {},
   "outputs": [],
   "source": [
    "for symbol in mappings:\n",
    "    mapping = mappings[symbol]\n",
    "    truth_tables.replace(to_replace=symbol, value=mapping, inplace=True)"
   ]
  },
  {
   "cell_type": "code",
   "execution_count": 8,
   "id": "1decaecf",
   "metadata": {},
   "outputs": [
    {
     "data": {
      "text/plain": [
       "0     0.00\n",
       "1     0.00\n",
       "2     0.00\n",
       "3     0.00\n",
       "4     0.25\n",
       "5     0.25\n",
       "6     0.25\n",
       "7     0.25\n",
       "8     0.50\n",
       "9     0.50\n",
       "10    0.50\n",
       "11    0.50\n",
       "12    0.75\n",
       "13    0.75\n",
       "14    0.75\n",
       "15    0.75\n",
       "16    1.00\n",
       "17    1.00\n",
       "18    1.00\n",
       "19    1.00\n",
       "Name: Operator, dtype: float64"
      ]
     },
     "execution_count": 8,
     "metadata": {},
     "output_type": "execute_result"
    }
   ],
   "source": [
    "# verifying changes have been correctly applied\n",
    "truth_tables[\"Operator\"]"
   ]
  },
  {
   "cell_type": "markdown",
   "id": "23f9a81f",
   "metadata": {},
   "source": [
    "### Separate the dataset into data (input) and target (output)\n",
    "This is important for better clarity when training a supervised machine learning model"
   ]
  },
  {
   "cell_type": "code",
   "execution_count": 9,
   "id": "30a14677",
   "metadata": {},
   "outputs": [
    {
     "data": {
      "text/plain": [
       "[3]"
      ]
     },
     "execution_count": 9,
     "metadata": {},
     "output_type": "execute_result"
    }
   ],
   "source": [
    "target = truth_tables[\"Result\"]\n",
    "data = truth_tables.drop(columns=[\"Result\"])\n",
    "\n",
    "input_shape = [data.shape[1]]\n",
    "\n",
    "input_shape"
   ]
  },
  {
   "cell_type": "markdown",
   "id": "ab458ea1",
   "metadata": {},
   "source": [
    "# Model creation"
   ]
  },
  {
   "cell_type": "markdown",
   "id": "d99384b2",
   "metadata": {},
   "source": [
    "## Create a `Sequential` (straight-forward NN) model"
   ]
  },
  {
   "cell_type": "code",
   "execution_count": 10,
   "id": "4f503f16",
   "metadata": {},
   "outputs": [
    {
     "name": "stdout",
     "output_type": "stream",
     "text": [
      "Model: \"sequential\"\n",
      "_________________________________________________________________\n",
      " Layer (type)                Output Shape              Param #   \n",
      "=================================================================\n",
      " dense (Dense)               (None, 64)                256       \n",
      "                                                                 \n",
      " dense_1 (Dense)             (None, 64)                4160      \n",
      "                                                                 \n",
      " dense_2 (Dense)             (None, 1)                 65        \n",
      "                                                                 \n",
      "=================================================================\n",
      "Total params: 4,481\n",
      "Trainable params: 4,481\n",
      "Non-trainable params: 0\n",
      "_________________________________________________________________\n"
     ]
    },
    {
     "name": "stderr",
     "output_type": "stream",
     "text": [
      "2022-11-04 23:37:34.308012: W tensorflow/stream_executor/platform/default/dso_loader.cc:64] Could not load dynamic library 'libcuda.so.1'; dlerror: libcuda.so.1: cannot open shared object file: No such file or directory\n",
      "2022-11-04 23:37:34.308051: W tensorflow/stream_executor/cuda/cuda_driver.cc:263] failed call to cuInit: UNKNOWN ERROR (303)\n",
      "2022-11-04 23:37:34.308079: I tensorflow/stream_executor/cuda/cuda_diagnostics.cc:156] kernel driver does not appear to be running on this host (lair): /proc/driver/nvidia/version does not exist\n",
      "2022-11-04 23:37:34.308535: I tensorflow/core/platform/cpu_feature_guard.cc:193] This TensorFlow binary is optimized with oneAPI Deep Neural Network Library (oneDNN) to use the following CPU instructions in performance-critical operations:  AVX2 FMA\n",
      "To enable them in other operations, rebuild TensorFlow with the appropriate compiler flags.\n"
     ]
    }
   ],
   "source": [
    "model = tf.keras.models.Sequential([\n",
    "    # Add input configuration (Keras will imply the data configurtion from input and output characteristics) \n",
    "    tf.keras.layers.Dense(units=64, activation='relu', input_shape=input_shape),\n",
    "    tf.keras.layers.Dense(units=64, activation='relu'),\n",
    "    tf.keras.layers.Dense(units=1)\n",
    "])\n",
    "model.summary()"
   ]
  },
  {
   "cell_type": "code",
   "execution_count": 11,
   "id": "0649425f",
   "metadata": {
    "collapsed": true
   },
   "outputs": [],
   "source": [
    "# Adam is an optimizar that is generally good for any NN and Mean Absolute Error is used for Loss\n",
    "model.compile(optimizer='adam', loss='mae')"
   ]
  },
  {
   "cell_type": "code",
   "execution_count": 40,
   "id": "e0ff5610",
   "metadata": {},
   "outputs": [],
   "source": [
    "losses = model.fit(data, target, validation_data=(data, target), epochs=10, verbose=False)"
   ]
  },
  {
   "cell_type": "markdown",
   "id": "78fd4f60",
   "metadata": {},
   "source": [
    "## Predictions"
   ]
  },
  {
   "cell_type": "code",
   "execution_count": 43,
   "id": "e64bba75",
   "metadata": {},
   "outputs": [
    {
     "name": "stdout",
     "output_type": "stream",
     "text": [
      "1/1 [==============================] - 0s 11ms/step\n"
     ]
    },
    {
     "data": {
      "text/plain": [
       "array([[ 4.6006590e-03],\n",
       "       [ 3.7966818e-03],\n",
       "       [ 8.0711991e-03],\n",
       "       [ 1.0107397e+00],\n",
       "       [-1.4566034e-03],\n",
       "       [ 1.0108095e+00],\n",
       "       [ 1.0113753e+00],\n",
       "       [ 1.0017070e+00],\n",
       "       [ 1.0074651e+00],\n",
       "       [ 1.0093255e+00],\n",
       "       [ 4.7906786e-03],\n",
       "       [ 1.0006714e+00],\n",
       "       [ 1.0125331e+00],\n",
       "       [ 6.0570538e-03],\n",
       "       [ 1.0001737e+00],\n",
       "       [ 1.0023808e+00],\n",
       "       [ 1.0145173e+00],\n",
       "       [ 9.9400580e-03],\n",
       "       [ 8.6970627e-04],\n",
       "       [ 1.0017183e+00]], dtype=float32)"
      ]
     },
     "execution_count": 43,
     "metadata": {},
     "output_type": "execute_result"
    }
   ],
   "source": [
    "# predictions are floats, they will have to be converted to binary\n",
    "model.predict(data)"
   ]
  },
  {
   "cell_type": "markdown",
   "id": "d56b392a",
   "metadata": {},
   "source": [
    "## Measuring accuracy"
   ]
  },
  {
   "cell_type": "code",
   "execution_count": 42,
   "id": "087182b9",
   "metadata": {},
   "outputs": [
    {
     "name": "stdout",
     "output_type": "stream",
     "text": [
      "1/1 [==============================] - 0s 11ms/step\n",
      "The prediction is correct.\n",
      "The prediction is correct.\n",
      "The prediction is correct.\n",
      "The prediction is correct.\n",
      "The prediction is correct.\n",
      "The prediction is correct.\n",
      "The prediction is correct.\n",
      "The prediction is correct.\n",
      "The prediction is correct.\n",
      "The prediction is correct.\n",
      "The prediction is correct.\n",
      "The prediction is correct.\n",
      "The prediction is correct.\n",
      "The prediction is correct.\n",
      "The prediction is correct.\n",
      "The prediction is correct.\n",
      "The prediction is correct.\n",
      "The prediction is correct.\n",
      "The prediction is correct.\n",
      "The prediction is correct.\n"
     ]
    }
   ],
   "source": [
    "# conversion to binary and check accuracy for each observation in dataset\n",
    "results = list(map(int, model.predict(data)))\n",
    "for i in range(len(results)):\n",
    "    print(\"The prediction is correct.\") if results[i] == target[i] else print(\"The prediction is incorrect :(\")"
   ]
  },
  {
   "cell_type": "markdown",
   "id": "2c207333",
   "metadata": {},
   "source": [
    "### Function to measure accuracy with multiple epochs values for training"
   ]
  },
  {
   "cell_type": "code",
   "execution_count": 94,
   "id": "bfb786c3",
   "metadata": {},
   "outputs": [],
   "source": [
    "# define function accuracy, takes as argument the data (input to train the data),\n",
    "# target array (expected output for the data)\n",
    "# and epoch_jumps, wich is an array with different epoch values to test accuracy\n",
    "def test_model_accuracy(data, target, epoch_jumps):\n",
    "    epoch_accuracies = []\n",
    "    \n",
    "    for k in epoch_jumps:\n",
    "        history = model.fit(data, target, epochs=k, verbose=False)\n",
    "        accuracy = .0\n",
    "        \n",
    "        predictions = list(map(int, model.predict(data)))\n",
    "        for x, y in zip(predictions, target):\n",
    "            accuracy += (x == y)\n",
    "        accuracy /= 20\n",
    "        print(accuracy)\n",
    "        epoch_accuracies.append(accuracy)\n",
    "    \n",
    "    return epoch_accuracies"
   ]
  },
  {
   "cell_type": "code",
   "execution_count": 85,
   "id": "95ad4d22",
   "metadata": {},
   "outputs": [
    {
     "name": "stdout",
     "output_type": "stream",
     "text": [
      "1/1 [==============================] - 0s 11ms/step\n",
      "0.55\n",
      "1/1 [==============================] - 0s 11ms/step\n",
      "0.95\n",
      "1/1 [==============================] - 0s 11ms/step\n",
      "0.9\n",
      "1/1 [==============================] - 0s 11ms/step\n",
      "0.4\n",
      "1/1 [==============================] - 0s 11ms/step\n",
      "0.65\n",
      "1/1 [==============================] - 0s 11ms/step\n",
      "0.9\n",
      "1/1 [==============================] - 0s 12ms/step\n",
      "0.55\n",
      "1/1 [==============================] - 0s 11ms/step\n",
      "1.0\n",
      "1/1 [==============================] - 0s 12ms/step\n",
      "0.85\n",
      "1/1 [==============================] - 0s 12ms/step\n",
      "0.9\n"
     ]
    }
   ],
   "source": [
    "# testing accuracy using [5, 10, 15, 20, 25, 30, 35, 40, 45, 50] epochs for training\n",
    "epoch_jumps = np.arange(5, 51, 5)\n",
    "results = test_model_accuracy(target, epoch_jumps)"
   ]
  },
  {
   "cell_type": "code",
   "execution_count": 86,
   "id": "0e05a30d",
   "metadata": {},
   "outputs": [
    {
     "data": {
      "image/png": "[encoded data removed]",
      "text/plain": [
       "<Figure size 640x480 with 1 Axes>"
      ]
     },
     "metadata": {},
     "output_type": "display_data"
    }
   ],
   "source": [
    "plt.plot(epoch_jumps, results)\n",
    "plt.title(\"Number of epochs vs Model Accuracy\")\n",
    "plt.xlabel(\"Number of epochs (to train model)\")\n",
    "plt.ylabel(\"Accuracy\")\n",
    "plt.show()"
   ]
  },
  {
   "cell_type": "code",
   "execution_count": 89,
   "id": "a24b0a2c",
   "metadata": {},
   "outputs": [
    {
     "name": "stdout",
     "output_type": "stream",
     "text": [
      "1/1 [==============================] - 0s 11ms/step\n",
      "0.9\n",
      "1/1 [==============================] - 0s 11ms/step\n",
      "0.5\n",
      "1/1 [==============================] - 0s 11ms/step\n",
      "0.5\n",
      "1/1 [==============================] - 0s 11ms/step\n",
      "0.75\n",
      "1/1 [==============================] - 0s 12ms/step\n",
      "0.95\n",
      "1/1 [==============================] - 0s 11ms/step\n",
      "0.9\n",
      "1/1 [==============================] - 0s 11ms/step\n",
      "0.45\n",
      "1/1 [==============================] - 0s 11ms/step\n",
      "1.0\n",
      "1/1 [==============================] - 0s 12ms/step\n",
      "0.45\n",
      "1/1 [==============================] - 0s 12ms/step\n",
      "0.65\n",
      "1/1 [==============================] - 0s 11ms/step\n",
      "0.9\n"
     ]
    }
   ],
   "source": [
    "# based on the results of the first test, the range can be contracted to [1, 10]\n",
    "epoch_jumps = np.arange(11)\n",
    "results = test_model_accuracy(target, epoch_jumps)"
   ]
  },
  {
   "cell_type": "code",
   "execution_count": 90,
   "id": "44a32821",
   "metadata": {},
   "outputs": [
    {
     "data": {
      "image/png": "[encoded data removed]",
      "text/plain": [
       "<Figure size 640x480 with 1 Axes>"
      ]
     },
     "metadata": {},
     "output_type": "display_data"
    }
   ],
   "source": [
    "plt.plot(epoch_jumps, results)\n",
    "plt.title(\"Number of epochs vs Model Accuracy\")\n",
    "plt.xlabel(\"Number of epochs (to train model)\")\n",
    "plt.ylabel(\"Accuracy\")\n",
    "plt.show()"
   ]
  },
  {
   "cell_type": "code",
   "execution_count": 95,
   "id": "70184fb3",
   "metadata": {},
   "outputs": [
    {
     "name": "stdout",
     "output_type": "stream",
     "text": [
      "1/1 [==============================] - 0s 12ms/step\n",
      "0.7\n",
      "1/1 [==============================] - 0s 11ms/step\n",
      "0.8\n",
      "1/1 [==============================] - 0s 11ms/step\n",
      "0.6\n",
      "1/1 [==============================] - 0s 12ms/step\n",
      "0.95\n",
      "1/1 [==============================] - 0s 12ms/step\n",
      "0.4\n",
      "1/1 [==============================] - 0s 12ms/step\n",
      "1.0\n"
     ]
    }
   ],
   "source": [
    "# Based on the last graph, the lowest amount of epochs with 100% accuracy is chosen\n",
    "# 7 was the chosen number of epochs\n",
    "# The model was retrained with 7 epochs until the same accuracy (100%) was achieved\n",
    "res = 0\n",
    "while res < 1:\n",
    "    res = test_model_accuracy(target, [7])[0]"
   ]
  },
  {
   "cell_type": "code",
   "execution_count": 96,
   "id": "1d2eb27a",
   "metadata": {},
   "outputs": [],
   "source": [
    "# saving the model for later use in frontend with tensorflowjs\n",
    "model.save(\"logic_model.h5\")"
   ]
  },
  {
   "cell_type": "code",
   "execution_count": 97,
   "id": "85c32e4c",
   "metadata": {},
   "outputs": [],
   "source": [
    "# Create folder for files\n",
    "!mkdir model"
   ]
  },
  {
   "cell_type": "code",
   "execution_count": 100,
   "id": "6a1af0c6",
   "metadata": {},
   "outputs": [
    {
     "name": "stdout",
     "output_type": "stream",
     "text": [
      "2022-11-05 00:30:54.928394: I tensorflow/core/platform/cpu_feature_guard.cc:193] This TensorFlow binary is optimized with oneAPI Deep Neural Network Library (oneDNN) to use the following CPU instructions in performance-critical operations:  AVX2 FMA\n",
      "To enable them in other operations, rebuild TensorFlow with the appropriate compiler flags.\n",
      "2022-11-05 00:30:55.032103: W tensorflow/stream_executor/platform/default/dso_loader.cc:64] Could not load dynamic library 'libcudart.so.11.0'; dlerror: libcudart.so.11.0: cannot open shared object file: No such file or directory\n",
      "2022-11-05 00:30:55.032118: I tensorflow/stream_executor/cuda/cudart_stub.cc:29] Ignore above cudart dlerror if you do not have a GPU set up on your machine.\n",
      "2022-11-05 00:30:55.048579: E tensorflow/stream_executor/cuda/cuda_blas.cc:2981] Unable to register cuBLAS factory: Attempting to register factory for plugin cuBLAS when one has already been registered\n",
      "2022-11-05 00:30:55.417605: W tensorflow/stream_executor/platform/default/dso_loader.cc:64] Could not load dynamic library 'libnvinfer.so.7'; dlerror: libnvinfer.so.7: cannot open shared object file: No such file or directory\n",
      "2022-11-05 00:30:55.417662: W tensorflow/stream_executor/platform/default/dso_loader.cc:64] Could not load dynamic library 'libnvinfer_plugin.so.7'; dlerror: libnvinfer_plugin.so.7: cannot open shared object file: No such file or directory\n",
      "2022-11-05 00:30:55.417668: W tensorflow/compiler/tf2tensorrt/utils/py_utils.cc:38] TF-TRT Warning: Cannot dlopen some TensorRT libraries. If you would like to use Nvidia GPU with TensorRT, please make sure the missing libraries mentioned above are installed properly.\n",
      "total 24\n",
      "-rw-rw-r-- 1 z3r0st z3r0st 17924 Nov  5 00:30 group1-shard1of1.bin\n",
      "-rw-rw-r-- 1 z3r0st z3r0st  2495 Nov  5 00:30 model.json\n"
     ]
    }
   ],
   "source": [
    "# Export to output folder\n",
    "!tensorflowjs_converter --input_format keras logic_model.h5 model\n",
    "# Check if export completed successfully\n",
    "!ls -l ./model"
   ]
  }
 ],
 "metadata": {
  "kernelspec": {
   "display_name": "Python 3 (ipykernel)",
   "language": "python",
   "name": "python3"
  },
  "language_info": {
   "codemirror_mode": {
    "name": "ipython",
    "version": 3
   },
   "file_extension": ".py",
   "mimetype": "text/x-python",
   "name": "python",
   "nbconvert_exporter": "python",
   "pygments_lexer": "ipython3",
   "version": "3.9.13"
  }
 },
 "nbformat": 4,
 "nbformat_minor": 5
}
