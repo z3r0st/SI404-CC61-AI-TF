{
  "nbformat": 4,
  "nbformat_minor": 0,
  "metadata": {
    "colab": {
      "provenance": []
    },
    "kernelspec": {
      "name": "python3",
      "display_name": "Python 3"
    },
    "language_info": {
      "name": "python"
    }
  },
  "cells": [
    {
      "cell_type": "code",
      "execution_count": 2,
      "metadata": {
        "id": "-9VUf8193Ner",
        "colab": {
          "base_uri": "https://localhost:8080/"
        },
        "outputId": "858f0eb0-fb95-476f-ee96-439a379ee6fa"
      },
      "outputs": [
        {
          "output_type": "stream",
          "name": "stdout",
          "text": [
            "Downloading...\n",
            "From: https://drive.google.com/uc?id=1ISI3taLNPdzbI5Pzqj2qQorvhL9kVTlT\n",
            "To: /content/IA_TF.zip\n",
            "\r  0% 0.00/903k [00:00<?, ?B/s]\r100% 903k/903k [00:00<00:00, 57.5MB/s]\n"
          ]
        }
      ],
      "source": [
        "!gdown 1ISI3taLNPdzbI5Pzqj2qQorvhL9kVTlT\n",
        "!unzip IA_TF.zip"
      ]
    },
    {
      "cell_type": "code",
      "source": [
        "import numpy as np\n",
        "import tensorflow as tf\n",
        "import matplotlib as plt\n",
        "from tensorflow import keras\n",
        "import math"
      ],
      "metadata": {
        "id": "GZszfGb_4Ehr"
      },
      "execution_count": 3,
      "outputs": []
    },
    {
      "cell_type": "code",
      "source": [
        "model = keras.Sequential([\n",
        "    tf.keras.layers.Conv2D(32, (3,3), activation='relu', input_shape=(150, 150, 1)),\n",
        "    tf.keras.layers.MaxPooling2D(2, 2),\n",
        "\n",
        "    tf.keras.layers.Conv2D(64, (3,3), activation='relu'),\n",
        "    tf.keras.layers.MaxPooling2D(2,2),\n",
        "\n",
        "    tf.keras.layers.Conv2D(128, (3,3), activation='relu'),\n",
        "    tf.keras.layers.MaxPooling2D(2,2),\n",
        "\n",
        "    tf.keras.layers.Dropout(0.5),\n",
        "    tf.keras.layers.Flatten(),\n",
        "    tf.keras.layers.Dense(512, activation='relu'),\n",
        "    tf.keras.layers.Dense(8, activation=tf.nn.softmax) \n",
        "\n",
        "])\n",
        "\n",
        "model.compile(optimizer=\"adam\",loss=tf.keras.losses.SparseCategoricalCrossentropy(),metrics=[\"accuracy\"])"
      ],
      "metadata": {
        "id": "441Yo3B04UjZ"
      },
      "execution_count": 4,
      "outputs": []
    },
    {
      "cell_type": "code",
      "source": [
        "train = tf.keras.preprocessing.image_dataset_from_directory(\n",
        "    \"IA_TF\",labels=\"inferred\",label_mode=\"int\", class_names=['Biimplicador', 'Conjuntor', 'Disyuntor', 'Implicador', 'Negador', 'No', 'Replicador', 'SI'],\n",
        "    batch_size=5,image_size=(150,150),color_mode=\"grayscale\",shuffle=True\n",
        ")"
      ],
      "metadata": {
        "colab": {
          "base_uri": "https://localhost:8080/"
        },
        "id": "WbnCSDXt4p6V",
        "outputId": "e6e8cd44-3f3b-4101-bd96-4226dd35591d"
      },
      "execution_count": 5,
      "outputs": [
        {
          "output_type": "stream",
          "name": "stdout",
          "text": [
            "Found 400 files belonging to 8 classes.\n"
          ]
        }
      ]
    },
    {
      "cell_type": "code",
      "source": [
        "model.fit(train,epochs=10,steps_per_epoch=math.ceil(400/5))"
      ],
      "metadata": {
        "colab": {
          "base_uri": "https://localhost:8080/"
        },
        "id": "leejZ6qC6CVq",
        "outputId": "be4a4d56-a8e8-4f88-db49-120da7e1d65c"
      },
      "execution_count": 7,
      "outputs": [
        {
          "output_type": "stream",
          "name": "stdout",
          "text": [
            "Epoch 1/10\n",
            "80/80 [==============================] - 18s 225ms/step - loss: 0.3340 - accuracy: 0.9025\n",
            "Epoch 2/10\n",
            "80/80 [==============================] - 18s 223ms/step - loss: 0.4034 - accuracy: 0.8825\n",
            "Epoch 3/10\n",
            "80/80 [==============================] - 18s 224ms/step - loss: 0.2543 - accuracy: 0.9200\n",
            "Epoch 4/10\n",
            "80/80 [==============================] - 18s 223ms/step - loss: 0.3495 - accuracy: 0.8875\n",
            "Epoch 5/10\n",
            "80/80 [==============================] - 18s 224ms/step - loss: 0.2602 - accuracy: 0.9200\n",
            "Epoch 6/10\n",
            "80/80 [==============================] - 18s 228ms/step - loss: 0.2015 - accuracy: 0.9400\n",
            "Epoch 7/10\n",
            "80/80 [==============================] - 18s 223ms/step - loss: 0.1929 - accuracy: 0.9300\n",
            "Epoch 8/10\n",
            "80/80 [==============================] - 18s 224ms/step - loss: 0.5746 - accuracy: 0.8625\n",
            "Epoch 9/10\n",
            "80/80 [==============================] - 18s 226ms/step - loss: 0.3136 - accuracy: 0.9100\n",
            "Epoch 10/10\n",
            "80/80 [==============================] - 18s 225ms/step - loss: 0.3128 - accuracy: 0.9200\n"
          ]
        },
        {
          "output_type": "execute_result",
          "data": {
            "text/plain": [
              "<keras.callbacks.History at 0x7f2c3b0aead0>"
            ]
          },
          "metadata": {},
          "execution_count": 7
        }
      ]
    },
    {
      "cell_type": "code",
      "source": [
        "model.save(\"TF_Model2.h5\")"
      ],
      "metadata": {
        "id": "lB-9lGXP8ilY"
      },
      "execution_count": null,
      "outputs": []
    }
  ]
}